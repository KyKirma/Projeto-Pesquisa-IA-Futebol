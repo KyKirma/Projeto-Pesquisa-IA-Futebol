{
 "cells": [
  {
   "cell_type": "code",
   "execution_count": 11,
   "metadata": {},
   "outputs": [],
   "source": [
    "import pandas as pd\n",
    "df1 = pd.read_csv('Database/datasetFlashScore.csv', delimiter=';')\n",
    "df2 = pd.read_csv('Database/datasetFlashScore2022.csv', delimiter=';')\n",
    "\n",
    "# Concatena os dois dataframes\n",
    "df = pd.concat([df1, df2], ignore_index = True)\n",
    "\n",
    "# Cria um atributo para o resultado do jogo, servindo como target da IA\n",
    "df['Resultado'] = df.apply(lambda row: \"Vitória do time da casa\" if int(row['FTHG']) > int(row['FTAG']) else \"Vitória do time visitante\" if int(row['FTHG']) < int(row['FTAG']) else \"Empate\", axis=1)\n",
    "\n",
    "# Cria uma coluna para indicar se o jogo teve 3 gols ou mais\n",
    "df['Over 2.5'] = df.apply(lambda row: 1 if int(row['FTHG']) + int(row['FTAG']) >= 3 else 0, axis=1)\n",
    "df = df.drop(columns=['FTAG', 'FTHG'])\n",
    "dfTestes = df.head(20)\n",
    "dfTreinamento = df.iloc[20:]"
   ]
  },
  {
   "cell_type": "code",
   "execution_count": null,
   "metadata": {},
   "outputs": [],
   "source": [
    "from pycaret.classification import *\n",
    "s = setup(dfTreinamento, target = 'Over 2.5', session_id = 123)"
   ]
  },
  {
   "cell_type": "code",
   "execution_count": null,
   "metadata": {},
   "outputs": [],
   "source": [
    "best = compare_models()"
   ]
  },
  {
   "cell_type": "code",
   "execution_count": null,
   "metadata": {},
   "outputs": [],
   "source": [
    "tuned = tune_model(best)"
   ]
  },
  {
   "cell_type": "code",
   "execution_count": null,
   "metadata": {},
   "outputs": [],
   "source": [
    "evaluate_model(best)"
   ]
  },
  {
   "cell_type": "code",
   "execution_count": null,
   "metadata": {},
   "outputs": [],
   "source": [
    "plot_model(best, plot='confusion_matrix')"
   ]
  },
  {
   "cell_type": "code",
   "execution_count": null,
   "metadata": {},
   "outputs": [],
   "source": [
    "predictions = predict_model(best, data=dfTestes, raw_score = True)\n",
    "predictions"
   ]
  }
 ],
 "metadata": {
  "kernelspec": {
   "display_name": ".venv",
   "language": "python",
   "name": "python3"
  },
  "language_info": {
   "codemirror_mode": {
    "name": "ipython",
    "version": 3
   },
   "file_extension": ".py",
   "mimetype": "text/x-python",
   "name": "python",
   "nbconvert_exporter": "python",
   "pygments_lexer": "ipython3",
   "version": "3.11.2"
  }
 },
 "nbformat": 4,
 "nbformat_minor": 2
}
