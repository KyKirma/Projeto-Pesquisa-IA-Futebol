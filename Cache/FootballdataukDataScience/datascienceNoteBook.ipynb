{
 "cells": [
  {
   "cell_type": "markdown",
   "metadata": {},
   "source": [
    "Arquivo feito para testes e visualizar os df manipulados"
   ]
  },
  {
   "cell_type": "code",
   "execution_count": null,
   "metadata": {},
   "outputs": [],
   "source": [
    "import pandas as pd\n",
    "import os\n",
    "from main import db, app\n",
    "from models import Campeonato, Times, TPC, Jogo"
   ]
  },
  {
   "cell_type": "code",
   "execution_count": null,
   "metadata": {},
   "outputs": [],
   "source": [
    "CSVPath = \"./DataBase\"\n",
    "CSVFiles = os.listdir(CSVPath)\n"
   ]
  },
  {
   "cell_type": "code",
   "execution_count": null,
   "metadata": {},
   "outputs": [],
   "source": [
    "class TCP:\n",
    "    def __init__(self, CampAno, Div, Time):\n",
    "        self.CampAno = CampAno\n",
    "        self.Div = Div\n",
    "        self.Time = Time"
   ]
  },
  {
   "cell_type": "code",
   "execution_count": null,
   "metadata": {},
   "outputs": [],
   "source": [
    "div_to_regiao = {\n",
    "'B': 'Belgica',\n",
    "'D': 'Alemanha',\n",
    "'E': 'Inglaterra',\n",
    "'F': 'França',\n",
    "'G': 'Grecia',\n",
    "'I': 'Italia',\n",
    "'N': 'Holanda',\n",
    "'P': 'Portugal',\n",
    "'SC': 'Escocia',\n",
    "'SP': 'Espanha',\n",
    "'T': 'Turquia',\n",
    "}\n",
    "\n",
    "ListaTimes = []\n",
    "ListaCamp = []\n",
    "ListaJogos = []\n",
    "ListaTCP = []\n",
    "\n",
    "for arquivos_csv in CSVFiles:\n",
    "    df = pd.read_csv(os.path.join(CSVPath, arquivos_csv))\n",
    "    df['Regiao'] = df['Div'].str.extract(r'(\\D{1,2})\\d?')[0].map(div_to_regiao)\n",
    "    df['Ano'] = df['Date'].str.extract(r'(\\d{4})')\n",
    "\n",
    "    #Tabela Campeonatos\n",
    "    div = df['Div'].iloc[0]\n",
    "    regiao = df['Regiao'].iloc[0]\n",
    "    ano = df['Ano'].iloc[0]\n",
    "    nome = \"{} {} {}\".format(div, regiao, ano)\n",
    "    ListaCamp.append(Campeonato(div = div, ano = ano, regiao = regiao, nome = nome))\n",
    "\n",
    "    for index, row in df.iterrows():\n",
    "        #Tabela Times\n",
    "        home_team = row['HomeTeam']\n",
    "        away_team = row['AwayTeam']\n",
    "        ListaTimes.append(home_team)\n",
    "        ListaTimes.append(away_team)\n",
    "\n",
    "        #Tabela Jogos\n",
    "        div = row['Div']\n",
    "        regiao = row['Regiao']\n",
    "        ano = row['Ano']\n",
    "        nome = \"{} {} {}\".format(div, regiao, ano)\n",
    "        ListaJogos.append(Jogo(nome = nome, div = div, ano = ano, hometeam = home_team, awayteam = away_team, regiao = regiao))\n",
    "\n",
    "        #Tabela TPC\n",
    "        ListaTCP.append(TPC(CampAno = ano, Div = div, Time = home_team))\n",
    "        ListaTCP.append(TPC(CampAno = ano, Div = div, Time = away_team))\n",
    "\n",
    "TimesTotal = list(set(ListaTimes))\n",
    "CampTotal = list(set(ListaCamp))\n",
    "TCPTotal = list(set(ListaTCP))\n",
    "\n"
   ]
  },
  {
   "cell_type": "code",
   "execution_count": null,
   "metadata": {},
   "outputs": [],
   "source": [
    "for arquivos_csv in CSVFiles:\n",
    "        df = pd.read_csv(os.path.join(CSVPath, arquivos_csv))\n",
    "        df['Date'] = pd.to_datetime(df['Date'])\n",
    "\n",
    "        if len(df['Date'].dt.year.unique()) != 1:\n",
    "\n",
    "            for ano in df['Date'].dt.year.unique():\n",
    "                df_ano = df[df['Date'].dt.year == ano]\n",
    "                print(df_ano)\n"
   ]
  }
 ],
 "metadata": {
  "kernelspec": {
   "display_name": "Python 3",
   "language": "python",
   "name": "python3"
  },
  "language_info": {
   "codemirror_mode": {
    "name": "ipython",
    "version": 3
   },
   "file_extension": ".py",
   "mimetype": "text/x-python",
   "name": "python",
   "nbconvert_exporter": "python",
   "pygments_lexer": "ipython3",
   "version": "3.11.2"
  }
 },
 "nbformat": 4,
 "nbformat_minor": 2
}
