{
 "cells": [
  {
   "cell_type": "code",
   "execution_count": 18,
   "metadata": {},
   "outputs": [],
   "source": [
    "import pandas as pd"
   ]
  },
  {
   "cell_type": "code",
   "execution_count": 19,
   "metadata": {},
   "outputs": [
    {
     "name": "stdout",
     "output_type": "stream",
     "text": [
      "<class 'pandas.core.frame.DataFrame'>\n",
      "RangeIndex: 105 entries, 0 to 104\n",
      "Data columns (total 41 columns):\n",
      " #   Column    Non-Null Count  Dtype \n",
      "---  ------    --------------  ----- \n",
      " 0   HomeTeam  105 non-null    object\n",
      " 1   AwayTeam  105 non-null    object\n",
      " 2   DateTime  105 non-null    object\n",
      " 3   FTHG      105 non-null    int64 \n",
      " 4   FTAG      105 non-null    int64 \n",
      " 5   HGE       105 non-null    object\n",
      " 6   AGE       105 non-null    object\n",
      " 7   HPB       105 non-null    object\n",
      " 8   APB       105 non-null    object\n",
      " 9   HTG       105 non-null    int64 \n",
      " 10  ATG       105 non-null    int64 \n",
      " 11  HCG       105 non-null    int64 \n",
      " 12  ACG       105 non-null    int64 \n",
      " 13  HCF       105 non-null    int64 \n",
      " 14  ACF       105 non-null    int64 \n",
      " 15  HCB       105 non-null    int64 \n",
      " 16  ACB       105 non-null    int64 \n",
      " 17  HFC       105 non-null    int64 \n",
      " 18  AFC       105 non-null    int64 \n",
      " 19  HES       105 non-null    int64 \n",
      " 20  AES       105 non-null    int64 \n",
      " 21  HIP       105 non-null    int64 \n",
      " 22  AIP       105 non-null    int64 \n",
      " 23  HLC       105 non-null    int64 \n",
      " 24  ALC       105 non-null    int64 \n",
      " 25  HDG       105 non-null    int64 \n",
      " 26  ADG       105 non-null    int64 \n",
      " 27  HFT       105 non-null    int64 \n",
      " 28  AFT       105 non-null    int64 \n",
      " 29  HCV       105 non-null    int64 \n",
      " 30  ACV       105 non-null    int64 \n",
      " 31  HCA       105 non-null    int64 \n",
      " 32  ACA       105 non-null    int64 \n",
      " 33  HPT       105 non-null    int64 \n",
      " 34  APT       105 non-null    int64 \n",
      " 35  HPC       105 non-null    int64 \n",
      " 36  APC       105 non-null    int64 \n",
      " 37  HATK      105 non-null    int64 \n",
      " 38  AATK      105 non-null    int64 \n",
      " 39  HATKP     105 non-null    int64 \n",
      " 40  AATKP     105 non-null    int64 \n",
      "dtypes: int64(34), object(7)\n",
      "memory usage: 33.8+ KB\n"
     ]
    }
   ],
   "source": [
    "df = pd.read_csv('datasetFlashScore.csv', delimiter=';')\n",
    "\n",
    "df.info()"
   ]
  },
  {
   "cell_type": "code",
   "execution_count": 20,
   "metadata": {},
   "outputs": [
    {
     "name": "stdout",
     "output_type": "stream",
     "text": [
      "11\n"
     ]
    }
   ],
   "source": [
    "jogos_casa = df[df['HomeTeam'].str.contains(\"Flamengo\", case=False) | df['AwayTeam'].str.contains(\"Flamengo\", case=False)]\n",
    "\n",
    "print(len(jogos_casa))"
   ]
  },
  {
   "cell_type": "code",
   "execution_count": 21,
   "metadata": {},
   "outputs": [
    {
     "name": "stderr",
     "output_type": "stream",
     "text": [
      "C:\\Users\\pedro\\AppData\\Local\\Temp\\ipykernel_12536\\3425177528.py:15: UserWarning: Boolean Series key will be reindexed to match DataFrame index.\n",
      "  dfGoals.loc['Goals scored (GF)', 'Home'] = dfTime[(df['HomeTeam'].str.contains(team, case=False)) & (df['FTHG'] > 0)]['FTHG'].sum()\n",
      "C:\\Users\\pedro\\AppData\\Local\\Temp\\ipykernel_12536\\3425177528.py:16: UserWarning: Boolean Series key will be reindexed to match DataFrame index.\n",
      "  dfGoals.loc['Goals scored (GF)', 'Away'] = dfTime[(df['AwayTeam'].str.contains(team, case=False)) & (df['FTAG'] > 0)]['FTAG'].sum()\n",
      "C:\\Users\\pedro\\AppData\\Local\\Temp\\ipykernel_12536\\3425177528.py:21: UserWarning: Boolean Series key will be reindexed to match DataFrame index.\n",
      "  dfGoals.loc['GF per match', 'Home'] = round(dfTime[(df['HomeTeam'].str.contains(team, case=False)) & (df['FTHG'] > 0)]['FTHG'].sum() / len(dfTime), 2)\n",
      "C:\\Users\\pedro\\AppData\\Local\\Temp\\ipykernel_12536\\3425177528.py:21: FutureWarning: Setting an item of incompatible dtype is deprecated and will raise in a future error of pandas. Value '0.73' has dtype incompatible with int64, please explicitly cast to a compatible dtype first.\n",
      "  dfGoals.loc['GF per match', 'Home'] = round(dfTime[(df['HomeTeam'].str.contains(team, case=False)) & (df['FTHG'] > 0)]['FTHG'].sum() / len(dfTime), 2)\n",
      "C:\\Users\\pedro\\AppData\\Local\\Temp\\ipykernel_12536\\3425177528.py:22: UserWarning: Boolean Series key will be reindexed to match DataFrame index.\n",
      "  dfGoals.loc['GF per match', 'Away'] = round(dfTime[(df['AwayTeam'].str.contains(team, case=False)) & (df['FTAG'] > 0)]['FTAG'].sum() / len(dfTime), 2)\n",
      "C:\\Users\\pedro\\AppData\\Local\\Temp\\ipykernel_12536\\3425177528.py:23: FutureWarning: Setting an item of incompatible dtype is deprecated and will raise in a future error of pandas. Value '1.73' has dtype incompatible with int64, please explicitly cast to a compatible dtype first.\n",
      "  dfGoals.loc['GF per match', 'All'] = round((dfGoals.at['Goals scored (GF)', 'Home'] + dfGoals.at['Goals scored (GF)', 'Away']) / len(dfTime), 2)\n"
     ]
    },
    {
     "data": {
      "text/html": [
       "<div>\n",
       "<style scoped>\n",
       "    .dataframe tbody tr th:only-of-type {\n",
       "        vertical-align: middle;\n",
       "    }\n",
       "\n",
       "    .dataframe tbody tr th {\n",
       "        vertical-align: top;\n",
       "    }\n",
       "\n",
       "    .dataframe thead th {\n",
       "        text-align: right;\n",
       "    }\n",
       "</style>\n",
       "<table border=\"1\" class=\"dataframe\">\n",
       "  <thead>\n",
       "    <tr style=\"text-align: right;\">\n",
       "      <th></th>\n",
       "      <th>Home</th>\n",
       "      <th>Away</th>\n",
       "      <th>All</th>\n",
       "    </tr>\n",
       "    <tr>\n",
       "      <th>SCORING</th>\n",
       "      <th></th>\n",
       "      <th></th>\n",
       "      <th></th>\n",
       "    </tr>\n",
       "  </thead>\n",
       "  <tbody>\n",
       "    <tr>\n",
       "      <th>Goals scored (GF)</th>\n",
       "      <td>8.00</td>\n",
       "      <td>11</td>\n",
       "      <td>19.00</td>\n",
       "    </tr>\n",
       "    <tr>\n",
       "      <th>GF per match</th>\n",
       "      <td>0.73</td>\n",
       "      <td>1</td>\n",
       "      <td>1.73</td>\n",
       "    </tr>\n",
       "    <tr>\n",
       "      <th>Goals conceded (GA)</th>\n",
       "      <td>0.00</td>\n",
       "      <td>0</td>\n",
       "      <td>0.00</td>\n",
       "    </tr>\n",
       "    <tr>\n",
       "      <th>GA per match</th>\n",
       "      <td>0.00</td>\n",
       "      <td>0</td>\n",
       "      <td>0.00</td>\n",
       "    </tr>\n",
       "    <tr>\n",
       "      <th>GF + GA per match</th>\n",
       "      <td>0.00</td>\n",
       "      <td>0</td>\n",
       "      <td>0.00</td>\n",
       "    </tr>\n",
       "  </tbody>\n",
       "</table>\n",
       "</div>"
      ],
      "text/plain": [
       "                     Home  Away    All\n",
       "SCORING                               \n",
       "Goals scored (GF)    8.00    11  19.00\n",
       "GF per match         0.73     1   1.73\n",
       "Goals conceded (GA)  0.00     0   0.00\n",
       "GA per match         0.00     0   0.00\n",
       "GF + GA per match    0.00     0   0.00"
      ]
     },
     "execution_count": 21,
     "metadata": {},
     "output_type": "execute_result"
    }
   ],
   "source": [
    "def GoalsSC(df, team):\n",
    "    dfTime = df[df['HomeTeam'].str.contains(team, case=False) | df['AwayTeam'].str.contains(team, case=False)]\n",
    "\n",
    "    data = {\n",
    "        'SCORING': ['Goals scored (GF)', 'GF per match', 'Goals conceded (GA)', 'GA per match', 'GF + GA per match'],\n",
    "        'Home': [0, 0, 0, 0, 0],\n",
    "        'Away': [0, 0, 0, 0, 0],\n",
    "        'All': [0, 0, 0, 0, 0]\n",
    "    }\n",
    "\n",
    "    dfGoals = pd.DataFrame(data)\n",
    "    dfGoals = dfGoals.set_index('SCORING')\n",
    "    \n",
    "    # Set 'Goals scored (GF)'\n",
    "    dfGoals.loc['Goals scored (GF)', 'Home'] = dfTime[(df['HomeTeam'].str.contains(team, case=False)) & (df['FTHG'] > 0)]['FTHG'].sum()\n",
    "    dfGoals.loc['Goals scored (GF)', 'Away'] = dfTime[(df['AwayTeam'].str.contains(team, case=False)) & (df['FTAG'] > 0)]['FTAG'].sum()\n",
    "    dfGoals.loc['Goals scored (GF)', 'All'] =  dfGoals.at['Goals scored (GF)', 'Home'] + dfGoals.at['Goals scored (GF)', 'Away']\n",
    "\n",
    "    # Set 'GF per match'\n",
    "    # Set 'GF per match'\n",
    "    dfGoals.loc['GF per match', 'Home'] = round(dfTime[(df['HomeTeam'].str.contains(team, case=False)) & (df['FTHG'] > 0)]['FTHG'].sum() / len(dfTime), 2)\n",
    "    dfGoals.loc['GF per match', 'Away'] = round(dfTime[(df['AwayTeam'].str.contains(team, case=False)) & (df['FTAG'] > 0)]['FTAG'].sum() / len(dfTime), 2)\n",
    "    dfGoals.loc['GF per match', 'All'] = round((dfGoals.at['Goals scored (GF)', 'Home'] + dfGoals.at['Goals scored (GF)', 'Away']) / len(dfTime), 2)\n",
    "    \"\"\" \n",
    "    # Set 'Goals conceded (GA)'\n",
    "    dfGoals.loc['Goals conceded (GA)', 'Home'] = dfTime[dfTime['Home/Away'] == 'Home']['GA'].sum()\n",
    "    dfGoals.loc['Goals conceded (GA)', 'Away'] = dfTime[dfTime['Home/Away'] == 'Away']['GA'].sum()\n",
    "    dfGoals.loc['Goals conceded (GA)', 'All'] = dfTime['GA'].sum()\n",
    "\n",
    "    # Set 'GA per match'\n",
    "    dfGoals.loc['GA per match', 'Home'] = len(dfTime[dfTime['Home/Away'] == 'Home'])\n",
    "    dfGoals.loc['GA per match', 'Away'] = len(dfTime[dfTime['Home/Away'] == 'Away'])\n",
    "    dfGoals.loc['GA per match', 'All'] = len(dfTime) \n",
    "    \"\"\"\n",
    "\n",
    "    # Set 'GF + GA per match'\n",
    "\n",
    "    return dfGoals\n",
    "\n",
    "\n",
    "GoalsSC(df, 'Flamengo')"
   ]
  }
 ],
 "metadata": {
  "kernelspec": {
   "display_name": "Python 3",
   "language": "python",
   "name": "python3"
  },
  "language_info": {
   "codemirror_mode": {
    "name": "ipython",
    "version": 3
   },
   "file_extension": ".py",
   "mimetype": "text/x-python",
   "name": "python",
   "nbconvert_exporter": "python",
   "pygments_lexer": "ipython3",
   "version": "3.11.2"
  }
 },
 "nbformat": 4,
 "nbformat_minor": 2
}
