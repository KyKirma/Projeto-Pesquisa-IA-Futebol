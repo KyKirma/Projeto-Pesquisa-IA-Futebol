{
 "cells": [
  {
   "cell_type": "code",
   "execution_count": 4,
   "metadata": {},
   "outputs": [],
   "source": [
    "import pandas as pd"
   ]
  },
  {
   "cell_type": "code",
   "execution_count": null,
   "metadata": {},
   "outputs": [],
   "source": [
    "df = pd.read_csv('datasetFlashScore.csv', delimiter=';')\n",
    "\n",
    "df.info()"
   ]
  },
  {
   "cell_type": "code",
   "execution_count": null,
   "metadata": {},
   "outputs": [],
   "source": [
    "jogos_casa = df[df['HomeTeam'].str.contains(\"Flamengo\", case=False) | df['AwayTeam'].str.contains(\"Flamengo\", case=False)]\n",
    "\n",
    "jogos_casa"
   ]
  },
  {
   "cell_type": "code",
   "execution_count": null,
   "metadata": {},
   "outputs": [],
   "source": [
    "def GoalsSC(df, team):\n",
    "    dfTime = df[df['HomeTeam'].str.contains(team, case=False) | df['AwayTeam'].str.contains(team, case=False)]\n",
    "\n",
    "    data = {\n",
    "        'SCORING': ['Goals scored (GF)', 'GF per match', 'Goals conceded (GA)', 'GA per match', 'GF + GA per match'],\n",
    "        'Home': [0.0, 0.0, 0.0, 0.0, 0.0],\n",
    "        'Away': [0.0, 0.0, 0.0, 0.0, 0.0],\n",
    "        'All': [0.0, 0.0, 0.0, 0.0, 0.0]\n",
    "    }\n",
    "\n",
    "    dfGoals = pd.DataFrame(data)\n",
    "    dfGoals = dfGoals.set_index('SCORING')\n",
    "    \n",
    "    # Set 'Goals scored (GF)'\n",
    "    dfGoals.loc['Goals scored (GF)', 'Home'] = dfTime[(df['HomeTeam'].str.contains(team, case=False)) & (df['FTHG'] > 0)]['FTHG'].sum()\n",
    "    dfGoals.loc['Goals scored (GF)', 'Away'] = dfTime[(df['AwayTeam'].str.contains(team, case=False)) & (df['FTAG'] > 0)]['FTAG'].sum()\n",
    "    dfGoals.loc['Goals scored (GF)', 'All'] =  dfGoals.at['Goals scored (GF)', 'Home'] + dfGoals.at['Goals scored (GF)', 'Away']\n",
    "\n",
    "    # Set 'GF per match'\n",
    "    dfGoals.loc['GF per match', 'Home'] = round(dfTime[(df['HomeTeam'].str.contains(team, case=False)) & (df['FTHG'] > 0)]['FTHG'].sum() / len(dfTime[(df['HomeTeam'].str.contains(team, case=False))]), 2)\n",
    "    dfGoals.loc['GF per match', 'Away'] = round(dfTime[(df['AwayTeam'].str.contains(team, case=False)) & (df['FTAG'] > 0)]['FTAG'].sum() / len(dfTime[(df['AwayTeam'].str.contains(team, case=False))]), 2)\n",
    "    dfGoals.loc['GF per match', 'All'] = round((dfGoals.at['Goals scored (GF)', 'Home'] + dfGoals.at['Goals scored (GF)', 'Away']) / len(dfTime), 2)\n",
    "    \n",
    "    # Set 'Goals conceded (GA)'\n",
    "    dfGoals.loc['Goals conceded (GA)', 'Home'] = dfTime[(df['HomeTeam'].str.contains(team, case=False)) & (df['FTAG'] > 0)]['FTAG'].sum()\n",
    "    dfGoals.loc['Goals conceded (GA)', 'Away'] = dfTime[(df['AwayTeam'].str.contains(team, case=False)) & (df['FTHG'] > 0)]['FTHG'].sum()\n",
    "    dfGoals.loc['Goals conceded (GA)', 'All'] =  dfGoals.at['Goals scored (GF)', 'Home'] + dfGoals.at['Goals scored (GF)', 'Away']\n",
    "\n",
    "    # Set 'GA per match'\n",
    "    dfGoals.loc['GA per match', 'Home'] = round(dfTime[(df['HomeTeam'].str.contains(team, case=False)) & (df['FTAG'] > 0)]['FTAG'].sum() / len(dfTime[(df['HomeTeam'].str.contains(team, case=False))]), 2)\n",
    "    dfGoals.loc['GA per match', 'Away'] = round(dfTime[(df['AwayTeam'].str.contains(team, case=False)) & (df['FTHG'] > 0)]['FTHG'].sum() / len(dfTime[(df['AwayTeam'].str.contains(team, case=False))]), 2)\n",
    "    dfGoals.loc['GA per match', 'All'] = round((dfGoals.at['Goals conceded (GA)', 'Home'] + dfGoals.at['Goals conceded (GA)', 'Away']) / len(dfTime), 2)\n",
    "    \n",
    "    # Set 'GF + GA per match'\n",
    "    dfGoals.loc['GF + GA per match', 'Home'] = round((dfGoals.at['GF per match', 'Home'] + dfGoals.at['GA per match', 'Home']), 2)\n",
    "    dfGoals.loc['GF + GA per match', 'Away'] = round((dfGoals.at['GF per match', 'Away'] + dfGoals.at['GA per match', 'Away']), 2)\n",
    "    dfGoals.loc['GF + GA per match', 'All'] = round((dfGoals.at['GF per match', 'All'] + dfGoals.at['GA per match', 'All']), 2)\n",
    "    return dfGoals\n",
    "\n",
    "\n",
    "GoalsSC(df, 'Fortaleza')"
   ]
  }
 ],
 "metadata": {
  "kernelspec": {
   "display_name": "Python 3",
   "language": "python",
   "name": "python3"
  },
  "language_info": {
   "codemirror_mode": {
    "name": "ipython",
    "version": 3
   },
   "file_extension": ".py",
   "mimetype": "text/x-python",
   "name": "python",
   "nbconvert_exporter": "python",
   "pygments_lexer": "ipython3",
   "version": "3.11.2"
  }
 },
 "nbformat": 4,
 "nbformat_minor": 2
}
